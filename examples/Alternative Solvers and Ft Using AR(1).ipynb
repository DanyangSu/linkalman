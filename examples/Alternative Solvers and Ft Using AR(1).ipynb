{
 "cells": [
  {
   "cell_type": "markdown",
   "metadata": {},
   "source": [
    "This example solves the same AR(1) problem, but the purpose here is to demonstration the versatitily of `linkalman`. It has the following three changes:\n",
    "\n",
    "1. three different methods to illustrate all three optimizing techniques\n",
    "2. use customized ft with BaseOpt instead of BaseConstantModel\n",
    "3. use nlopt as an alternative solver to illustrate flexibility of linkalman solver config"
   ]
  },
  {
   "cell_type": "code",
   "execution_count": 25,
   "metadata": {},
   "outputs": [],
   "source": [
    "\"\"\"\n",
    "AR(1) model\n",
    "\"\"\"\n",
    "import numpy as np\n",
    "import pandas as pd\n",
    "import linkalman\n",
    "import scipy\n",
    "from linkalman.models import BaseOpt as BM\n",
    "from linkalman.core.utils import build_tensor\n",
    "import nlopt\n",
    "%matplotlib inline \n"
   ]
  },
  {
   "cell_type": "markdown",
   "metadata": {},
   "source": [
    "# Initialization\n",
    "Instead of relying on `BaseConstantModel`, here I directly define the function `my_ft`. An `ft` should have two required positional arguments: `theta` and `T`. It may also contain keyword arguments. In defining a constant model, I also leverage the `linkalman.core.utils.Constant_M` module. If you have a long time series with mostly constant system dynamic matrices, you can use `Constant_M` to save storage spaces. "
   ]
  },
  {
   "cell_type": "code",
   "execution_count": 26,
   "metadata": {},
   "outputs": [],
   "source": [
    "def my_ft(theta, T, x_0=0):\n",
    "    \"\"\"\n",
    "    AR(1) model with noise. In general, MLE is biased, so the focus should be \n",
    "    more on prediction fit, less on parameter estimation. The \n",
    "    formula here for Ar(1) is:\n",
    "    y_t = c + Fy_{t-1} + epsilon_{t-1}\n",
    "    \"\"\"\n",
    "    # Define theta\n",
    "    phi_1 = 1 / (np.exp(theta[0])+1)\n",
    "    sigma = np.exp(theta[1]) \n",
    "    sigma_R = np.exp(theta[3]) \n",
    "    # Generate F\n",
    "    F = np.array([[phi_1]])\n",
    "    # Generate Q\n",
    "    Q = np.array([[sigma]]) \n",
    "    # Generate R\n",
    "    R = np.array([[sigma_R]])\n",
    "    # Generate H\n",
    "    H = np.array([[1]])\n",
    "    # Generate B\n",
    "    B = np.array([[theta[2]]])\n",
    "    # Generate D\n",
    "    D = np.array([[0]])\n",
    "    \n",
    "    # Build Mt\n",
    "    Ft = build_tensor(F, T)\n",
    "    Bt = build_tensor(B, T)\n",
    "    Qt = build_tensor(Q, T)\n",
    "    Ht = build_tensor(H, T)\n",
    "    Dt = build_tensor(D, T)\n",
    "    Rt = build_tensor(R, T)\n",
    "    xi_1_0 = theta[2] * x_0 / (1 - phi_1)  # calculate stationary mean, x_0 is already np.ndarray\n",
    "    P_1_0 = np.array([[sigma /(1 - phi_1 * phi_1)]])  # calculate stationary cov\n",
    "    \n",
    "    Mt = {'Ft': Ft,\n",
    "          'Bt': Bt,\n",
    "          'Qt': Qt,\n",
    "          'Ht': Ht,\n",
    "          'Dt': Dt,\n",
    "          'Rt': Rt,\n",
    "          'xi_1_0': xi_1_0,\n",
    "          'P_1_0': P_1_0}\n",
    "    return Mt\n"
   ]
  },
  {
   "cell_type": "markdown",
   "metadata": {},
   "source": [
    "# Solver"
   ]
  },
  {
   "cell_type": "code",
   "execution_count": 27,
   "metadata": {},
   "outputs": [],
   "source": [
    "def my_solver(param, obj_func, **kwargs):\n",
    "    \"\"\"\n",
    "    More complex solver function than the simple AR(1) case.\n",
    "    The purpose is to provide an example of flexiblity of\n",
    "    building solvers. Note I also suppress grad in nlopt_obj, \n",
    "    as linkalman uses only non-gradient optimizers\n",
    "    \"\"\"\n",
    "    def nlopt_obj(x, grad, **kwargs):\n",
    "        fval_opt = obj_func(x)\n",
    "        if kwargs.get('verbose', False):\n",
    "            print('fval: {}'.format(fval_opt))\n",
    "        return fval_opt\n",
    "\n",
    "    opt = nlopt.opt(nlopt.LN_BOBYQA, param.shape[0])\n",
    "    obj = lambda x, grad: nlopt_obj(x, grad, **kwargs)\n",
    "    opt.set_max_objective(obj)\n",
    "    opt.set_xtol_rel(kwargs.get('xtol_rel', opt.get_xtol_rel()))\n",
    "    opt.set_ftol_rel(kwargs.get('ftol_rel', opt.get_ftol_rel()))\n",
    "    theta_opt = opt.optimize(param)\n",
    "    fval_opt = opt.last_optimum_value()\n",
    "    if kwargs.get('verbose_opt', False):\n",
    "        print('fval: {}'.format(fval_opt))\n",
    "        \n",
    "    return theta_opt, fval_opt"
   ]
  },
  {
   "cell_type": "code",
   "execution_count": 28,
   "metadata": {},
   "outputs": [],
   "source": [
    "# Initialize the model\n",
    "x = 1\n",
    "model = BM()\n",
    "model.set_f(my_ft, x_0=x * np.ones([1, 1]))\n",
    "model.set_solver(my_solver, xtol_rel=1e-4, verbose=True) \n"
   ]
  },
  {
   "cell_type": "markdown",
   "metadata": {},
   "source": [
    "# Generate Synthetic Data"
   ]
  },
  {
   "cell_type": "code",
   "execution_count": 29,
   "metadata": {},
   "outputs": [],
   "source": [
    "# Some initial parameters\n",
    "theta = np.array([0, -0.1, 0.1, 1])\n",
    "T = 2000\n",
    "train_split_ratio = 0.7\n",
    "forecast_cutoff_ratio = 0.8  \n",
    "\n",
    "# Split train data\n",
    "train_split_t = np.floor(T * train_split_ratio).astype(int)\n",
    "\n",
    "# Generate missing data for forcasting\n",
    "forecast_t = np.floor(T * forecast_cutoff_ratio).astype(int)\n",
    "\n",
    "# If we want AR(1) with non-zero stationary mean, we should proivde a constant \n",
    "x_col = ['const']\n",
    "Xt = pd.DataFrame({x_col[0]: x * np.ones(T)})  # use x to ensure constant model\n",
    "\n",
    "# Build simulated data\n",
    "df, y_col, xi_col = model.simulated_data(input_theta=theta, Xt=Xt)\n",
    "\n",
    "# Store fully visible y for comparison later\n",
    "df['y_0_vis'] = df.y_0.copy()  \n",
    "\n",
    "# Splits models into three groups\n",
    "is_train = df.index < train_split_t\n",
    "is_test = (~is_train) & (df.index < forecast_t)\n",
    "is_forecast = ~(is_train | is_test)\n",
    "\n",
    "# Create a training and test data\n",
    "df_train = df.loc[is_train].copy()\n",
    "\n",
    "# Build two kinds of test data (full data vs. test data only)\n",
    "df_test = df.copy()  \n",
    "\n",
    "# Create an offset\n",
    "df_test.loc[is_forecast, ['y_0']] = np.nan"
   ]
  },
  {
   "cell_type": "markdown",
   "metadata": {},
   "source": [
    "# LLY\n",
    "First, I use numerical methods. It is the preferred methods over EM algorithm, because EM need score function to be effective, which is rather limiting. `linkalman` makes a compromise to gain flexibility in handling missing measurements and customized `ft`."
   ]
  },
  {
   "cell_type": "code",
   "execution_count": 30,
   "metadata": {
    "scrolled": false
   },
   "outputs": [
    {
     "name": "stdout",
     "output_type": "stream",
     "text": [
      "fval: -3223.780353605801\n",
      "fval: -3234.561809853953\n",
      "fval: -3310.260280868972\n",
      "fval: -3328.1984100977324\n",
      "fval: -3456.636793173768\n",
      "fval: -3242.1573106794576\n",
      "fval: -3234.992905247796\n",
      "fval: -3222.239100224533\n",
      "fval: -3256.2655883564653\n",
      "fval: -3216.4788739126393\n",
      "fval: -3196.55788615726\n",
      "fval: -3362.222650684933\n",
      "fval: -3201.0924426590236\n",
      "fval: -3202.440196796843\n",
      "fval: -3201.603496585028\n",
      "fval: -3196.48703399456\n",
      "fval: -3199.368877681782\n",
      "fval: -3193.9130548571093\n",
      "fval: -3194.4071415738267\n",
      "fval: -3194.2146663545977\n",
      "fval: -3195.213923446289\n",
      "fval: -3193.54681352407\n",
      "fval: -3193.299890352676\n",
      "fval: -3193.209470000652\n",
      "fval: -3193.199772660622\n",
      "fval: -3193.171337199446\n",
      "fval: -3193.139096795467\n",
      "fval: -3193.1091800629792\n",
      "fval: -3193.1466962155464\n",
      "fval: -3193.1512267731837\n",
      "fval: -3193.0896114881984\n",
      "fval: -3193.0893062262576\n",
      "fval: -3193.0904573076787\n",
      "fval: -3193.0812225480763\n",
      "fval: -3193.082681416268\n",
      "fval: -3193.0942540000315\n",
      "fval: -3193.0847272653205\n",
      "fval: -3193.0818193474447\n",
      "fval: -3193.0915999676445\n",
      "fval: -3193.0785694450256\n",
      "fval: -3193.085456040364\n",
      "fval: -3193.078269598553\n",
      "fval: -3193.078211425873\n",
      "fval: -3193.078160172975\n",
      "fval: -3193.07773734751\n",
      "fval: -3193.0769840144108\n",
      "fval: -3193.075809596501\n",
      "fval: -3193.0749732570375\n",
      "fval: -3193.075021302739\n",
      "fval: -3193.075358471949\n",
      "fval: -3193.0744819351116\n",
      "fval: -3193.07213728148\n",
      "fval: -3193.0702130020345\n",
      "fval: -3193.069985115334\n",
      "fval: -3193.0700268472942\n",
      "fval: -3193.0723201974006\n",
      "fval: -3193.0680491736107\n",
      "fval: -3193.065599535489\n",
      "fval: -3193.063866987733\n",
      "fval: -3193.060432895752\n",
      "fval: -3193.056028527028\n",
      "fval: -3193.058872620492\n",
      "fval: -3193.0700316210427\n",
      "fval: -3193.0564336779507\n",
      "fval: -3193.059118058848\n",
      "fval: -3193.053145166724\n",
      "fval: -3193.0532617709596\n",
      "fval: -3193.056780079366\n",
      "fval: -3193.052333075128\n",
      "fval: -3193.0511825148437\n",
      "fval: -3193.0507985815434\n",
      "fval: -3193.050806004593\n",
      "fval: -3193.050678360764\n",
      "fval: -3193.0506741649856\n",
      "fval: -3193.0507268088304\n",
      "fval: -3193.0504701532714\n",
      "fval: -3193.050328070846\n",
      "fval: -3193.050256294449\n",
      "fval: -3193.0502320673236\n",
      "fval: -3193.050220703519\n",
      "fval: -3193.050409908644\n",
      "fval: -3193.0502195607023\n",
      "fval: -3193.0502177861\n",
      "fval: -3193.050211654312\n",
      "fval: -3193.0502186076787\n",
      "fval: -3193.05024993403\n",
      "fval: -3193.0502117405617\n",
      "fval: -3193.050212420357\n",
      "fval: -3193.050211622811\n",
      "fval: -3193.0502130634864\n",
      "fval: -3193.050211564983\n",
      "fval: -3193.0502126404717\n",
      "fval: -3193.0502114536557\n",
      "fval: -3193.0502113850243\n",
      "fval: -3193.0502114609108\n",
      "fval: -3193.0502113934444\n"
     ]
    }
   ],
   "source": [
    "# Fit data using LLY:\n",
    "theta_init = np.random.rand(len(theta))\n",
    "model.fit(df_train, theta_init, y_col=y_col, x_col=x_col, \n",
    "              method='LLY')\n",
    "theta_LLY = model.theta_opt"
   ]
  },
  {
   "cell_type": "markdown",
   "metadata": {},
   "source": [
    "# Use EM to Cold Start Optimization\n",
    "One may combine EM and LLY method. EM methods, with score functions have very fast convergence at the beginning. Interested readers may design their own solvers to compute the saddle point directly. "
   ]
  },
  {
   "cell_type": "code",
   "execution_count": 31,
   "metadata": {},
   "outputs": [
    {
     "name": "stdout",
     "output_type": "stream",
     "text": [
      "fval: -3973.78189067131\n",
      "fval: -4081.248158034627\n",
      "fval: -4191.753625029391\n",
      "fval: -4208.026969528717\n",
      "fval: -4223.2025343844825\n",
      "fval: -4235.305600219138\n",
      "fval: -4245.718627942523\n",
      "fval: -4253.107876202973\n",
      "fval: -4258.003504280382\n"
     ]
    },
    {
     "ename": "KeyboardInterrupt",
     "evalue": "",
     "output_type": "error",
     "traceback": [
      "\u001b[0;31m---------------------------------------------------------------------------\u001b[0m",
      "\u001b[0;31mKeyboardInterrupt\u001b[0m                         Traceback (most recent call last)",
      "\u001b[0;32m<ipython-input-31-68e92d62eb46>\u001b[0m in \u001b[0;36m<module>\u001b[0;34m\u001b[0m\n\u001b[1;32m      2\u001b[0m \u001b[0mtheta_init\u001b[0m \u001b[0;34m=\u001b[0m \u001b[0mnp\u001b[0m\u001b[0;34m.\u001b[0m\u001b[0mrandom\u001b[0m\u001b[0;34m.\u001b[0m\u001b[0mrand\u001b[0m\u001b[0;34m(\u001b[0m\u001b[0mlen\u001b[0m\u001b[0;34m(\u001b[0m\u001b[0mtheta\u001b[0m\u001b[0;34m)\u001b[0m\u001b[0;34m)\u001b[0m\u001b[0;34m\u001b[0m\u001b[0;34m\u001b[0m\u001b[0m\n\u001b[1;32m      3\u001b[0m \u001b[0mmodel\u001b[0m\u001b[0;34m.\u001b[0m\u001b[0mset_solver\u001b[0m\u001b[0;34m(\u001b[0m\u001b[0mmy_solver\u001b[0m\u001b[0;34m,\u001b[0m \u001b[0mxtol_rel\u001b[0m\u001b[0;34m=\u001b[0m\u001b[0;36m1e-3\u001b[0m\u001b[0;34m,\u001b[0m \u001b[0mftol_rel\u001b[0m\u001b[0;34m=\u001b[0m\u001b[0;36m1e-3\u001b[0m\u001b[0;34m,\u001b[0m \u001b[0mverbose_opt\u001b[0m\u001b[0;34m=\u001b[0m\u001b[0;32mTrue\u001b[0m\u001b[0;34m)\u001b[0m\u001b[0;34m\u001b[0m\u001b[0;34m\u001b[0m\u001b[0m\n\u001b[0;32m----> 4\u001b[0;31m \u001b[0mmodel\u001b[0m\u001b[0;34m.\u001b[0m\u001b[0mfit\u001b[0m\u001b[0;34m(\u001b[0m\u001b[0mdf_train\u001b[0m\u001b[0;34m,\u001b[0m \u001b[0mtheta_init\u001b[0m\u001b[0;34m,\u001b[0m \u001b[0my_col\u001b[0m\u001b[0;34m=\u001b[0m\u001b[0my_col\u001b[0m\u001b[0;34m,\u001b[0m \u001b[0mx_col\u001b[0m\u001b[0;34m=\u001b[0m\u001b[0mx_col\u001b[0m\u001b[0;34m,\u001b[0m \u001b[0mmethod\u001b[0m\u001b[0;34m=\u001b[0m\u001b[0;34m'EM'\u001b[0m\u001b[0;34m,\u001b[0m \u001b[0mnum_EM_iter\u001b[0m\u001b[0;34m=\u001b[0m\u001b[0;36m20\u001b[0m\u001b[0;34m)\u001b[0m\u001b[0;34m\u001b[0m\u001b[0;34m\u001b[0m\u001b[0m\n\u001b[0m\u001b[1;32m      5\u001b[0m \u001b[0mmodel\u001b[0m\u001b[0;34m.\u001b[0m\u001b[0mset_solver\u001b[0m\u001b[0;34m(\u001b[0m\u001b[0mmy_solver\u001b[0m\u001b[0;34m,\u001b[0m \u001b[0mxtol_rel\u001b[0m\u001b[0;34m=\u001b[0m\u001b[0;36m1e-4\u001b[0m\u001b[0;34m,\u001b[0m \u001b[0mverbose\u001b[0m\u001b[0;34m=\u001b[0m\u001b[0;32mTrue\u001b[0m\u001b[0;34m)\u001b[0m\u001b[0;34m\u001b[0m\u001b[0;34m\u001b[0m\u001b[0m\n\u001b[1;32m      6\u001b[0m \u001b[0mmodel\u001b[0m\u001b[0;34m.\u001b[0m\u001b[0mfit\u001b[0m\u001b[0;34m(\u001b[0m\u001b[0mdf_train\u001b[0m\u001b[0;34m,\u001b[0m \u001b[0mmodel\u001b[0m\u001b[0;34m.\u001b[0m\u001b[0mtheta_opt\u001b[0m\u001b[0;34m,\u001b[0m \u001b[0my_col\u001b[0m\u001b[0;34m=\u001b[0m\u001b[0my_col\u001b[0m\u001b[0;34m,\u001b[0m \u001b[0mx_col\u001b[0m\u001b[0;34m=\u001b[0m\u001b[0mx_col\u001b[0m\u001b[0;34m,\u001b[0m \u001b[0mmethod\u001b[0m\u001b[0;34m=\u001b[0m\u001b[0;34m'LLY'\u001b[0m\u001b[0;34m)\u001b[0m\u001b[0;34m\u001b[0m\u001b[0;34m\u001b[0m\u001b[0m\n",
      "\u001b[0;32m~/codebase/linkalman/linkalman/models/base.py\u001b[0m in \u001b[0;36mfit\u001b[0;34m(self, df, theta_init, y_col, x_col, method, EM_threshold, num_EM_iter, post_min_iter, EM_stopping_rate, init_state, wrapper, reset_index)\u001b[0m\n\u001b[1;32m    169\u001b[0m                 \u001b[0mobj\u001b[0m \u001b[0;34m=\u001b[0m \u001b[0mks\u001b[0m\u001b[0;34m.\u001b[0m\u001b[0mG\u001b[0m\u001b[0;34m\u001b[0m\u001b[0;34m\u001b[0m\u001b[0m\n\u001b[1;32m    170\u001b[0m                 theta_opt, G_opt = self.solver(theta_i, obj, \n\u001b[0;32m--> 171\u001b[0;31m                         **self.solver_kwargs)\n\u001b[0m\u001b[1;32m    172\u001b[0m                 \u001b[0mdist\u001b[0m \u001b[0;34m=\u001b[0m \u001b[0mnp\u001b[0m\u001b[0;34m.\u001b[0m\u001b[0mabs\u001b[0m\u001b[0;34m(\u001b[0m\u001b[0mmax_G\u001b[0m \u001b[0;34m-\u001b[0m \u001b[0mG_opt\u001b[0m\u001b[0;34m)\u001b[0m\u001b[0;34m\u001b[0m\u001b[0;34m\u001b[0m\u001b[0m\n\u001b[1;32m    173\u001b[0m \u001b[0;34m\u001b[0m\u001b[0m\n",
      "\u001b[0;32m<ipython-input-27-cd347cd32f29>\u001b[0m in \u001b[0;36mmy_solver\u001b[0;34m(param, obj_func, **kwargs)\u001b[0m\n\u001b[1;32m     17\u001b[0m     \u001b[0mopt\u001b[0m\u001b[0;34m.\u001b[0m\u001b[0mset_xtol_rel\u001b[0m\u001b[0;34m(\u001b[0m\u001b[0mkwargs\u001b[0m\u001b[0;34m.\u001b[0m\u001b[0mget\u001b[0m\u001b[0;34m(\u001b[0m\u001b[0;34m'xtol_rel'\u001b[0m\u001b[0;34m,\u001b[0m \u001b[0mopt\u001b[0m\u001b[0;34m.\u001b[0m\u001b[0mget_xtol_rel\u001b[0m\u001b[0;34m(\u001b[0m\u001b[0;34m)\u001b[0m\u001b[0;34m)\u001b[0m\u001b[0;34m)\u001b[0m\u001b[0;34m\u001b[0m\u001b[0;34m\u001b[0m\u001b[0m\n\u001b[1;32m     18\u001b[0m     \u001b[0mopt\u001b[0m\u001b[0;34m.\u001b[0m\u001b[0mset_ftol_rel\u001b[0m\u001b[0;34m(\u001b[0m\u001b[0mkwargs\u001b[0m\u001b[0;34m.\u001b[0m\u001b[0mget\u001b[0m\u001b[0;34m(\u001b[0m\u001b[0;34m'ftol_rel'\u001b[0m\u001b[0;34m,\u001b[0m \u001b[0mopt\u001b[0m\u001b[0;34m.\u001b[0m\u001b[0mget_ftol_rel\u001b[0m\u001b[0;34m(\u001b[0m\u001b[0;34m)\u001b[0m\u001b[0;34m)\u001b[0m\u001b[0;34m)\u001b[0m\u001b[0;34m\u001b[0m\u001b[0;34m\u001b[0m\u001b[0m\n\u001b[0;32m---> 19\u001b[0;31m     \u001b[0mtheta_opt\u001b[0m \u001b[0;34m=\u001b[0m \u001b[0mopt\u001b[0m\u001b[0;34m.\u001b[0m\u001b[0moptimize\u001b[0m\u001b[0;34m(\u001b[0m\u001b[0mparam\u001b[0m\u001b[0;34m)\u001b[0m\u001b[0;34m\u001b[0m\u001b[0;34m\u001b[0m\u001b[0m\n\u001b[0m\u001b[1;32m     20\u001b[0m     \u001b[0mfval_opt\u001b[0m \u001b[0;34m=\u001b[0m \u001b[0mopt\u001b[0m\u001b[0;34m.\u001b[0m\u001b[0mlast_optimum_value\u001b[0m\u001b[0;34m(\u001b[0m\u001b[0;34m)\u001b[0m\u001b[0;34m\u001b[0m\u001b[0;34m\u001b[0m\u001b[0m\n\u001b[1;32m     21\u001b[0m     \u001b[0;32mif\u001b[0m \u001b[0mkwargs\u001b[0m\u001b[0;34m.\u001b[0m\u001b[0mget\u001b[0m\u001b[0;34m(\u001b[0m\u001b[0;34m'verbose_opt'\u001b[0m\u001b[0;34m,\u001b[0m \u001b[0;32mFalse\u001b[0m\u001b[0;34m)\u001b[0m\u001b[0;34m:\u001b[0m\u001b[0;34m\u001b[0m\u001b[0;34m\u001b[0m\u001b[0m\n",
      "\u001b[0;32m~/venvs/linkalman/lib/python3.7/site-packages/nlopt.py\u001b[0m in \u001b[0;36moptimize\u001b[0;34m(self, *args)\u001b[0m\n\u001b[1;32m    258\u001b[0m         \u001b[0;32mtry\u001b[0m\u001b[0;34m:\u001b[0m \u001b[0mself\u001b[0m\u001b[0;34m.\u001b[0m\u001b[0mthis\u001b[0m\u001b[0;34m.\u001b[0m\u001b[0mappend\u001b[0m\u001b[0;34m(\u001b[0m\u001b[0mthis\u001b[0m\u001b[0;34m)\u001b[0m\u001b[0;34m\u001b[0m\u001b[0;34m\u001b[0m\u001b[0m\n\u001b[1;32m    259\u001b[0m         \u001b[0;32mexcept\u001b[0m\u001b[0;34m:\u001b[0m \u001b[0mself\u001b[0m\u001b[0;34m.\u001b[0m\u001b[0mthis\u001b[0m \u001b[0;34m=\u001b[0m \u001b[0mthis\u001b[0m\u001b[0;34m\u001b[0m\u001b[0;34m\u001b[0m\u001b[0m\n\u001b[0;32m--> 260\u001b[0;31m     \u001b[0;32mdef\u001b[0m \u001b[0moptimize\u001b[0m\u001b[0;34m(\u001b[0m\u001b[0mself\u001b[0m\u001b[0;34m,\u001b[0m \u001b[0;34m*\u001b[0m\u001b[0margs\u001b[0m\u001b[0;34m)\u001b[0m\u001b[0;34m:\u001b[0m \u001b[0;32mreturn\u001b[0m \u001b[0m_nlopt\u001b[0m\u001b[0;34m.\u001b[0m\u001b[0mopt_optimize\u001b[0m\u001b[0;34m(\u001b[0m\u001b[0mself\u001b[0m\u001b[0;34m,\u001b[0m \u001b[0;34m*\u001b[0m\u001b[0margs\u001b[0m\u001b[0;34m)\u001b[0m\u001b[0;34m\u001b[0m\u001b[0;34m\u001b[0m\u001b[0m\n\u001b[0m\u001b[1;32m    261\u001b[0m     \u001b[0;32mdef\u001b[0m \u001b[0mlast_optimize_result\u001b[0m\u001b[0;34m(\u001b[0m\u001b[0mself\u001b[0m\u001b[0;34m)\u001b[0m\u001b[0;34m:\u001b[0m \u001b[0;32mreturn\u001b[0m \u001b[0m_nlopt\u001b[0m\u001b[0;34m.\u001b[0m\u001b[0mopt_last_optimize_result\u001b[0m\u001b[0;34m(\u001b[0m\u001b[0mself\u001b[0m\u001b[0;34m)\u001b[0m\u001b[0;34m\u001b[0m\u001b[0;34m\u001b[0m\u001b[0m\n\u001b[1;32m    262\u001b[0m     \u001b[0;32mdef\u001b[0m \u001b[0mlast_optimum_value\u001b[0m\u001b[0;34m(\u001b[0m\u001b[0mself\u001b[0m\u001b[0;34m)\u001b[0m\u001b[0;34m:\u001b[0m \u001b[0;32mreturn\u001b[0m \u001b[0m_nlopt\u001b[0m\u001b[0;34m.\u001b[0m\u001b[0mopt_last_optimum_value\u001b[0m\u001b[0;34m(\u001b[0m\u001b[0mself\u001b[0m\u001b[0;34m)\u001b[0m\u001b[0;34m\u001b[0m\u001b[0;34m\u001b[0m\u001b[0m\n",
      "\u001b[0;32m<ipython-input-27-cd347cd32f29>\u001b[0m in \u001b[0;36m<lambda>\u001b[0;34m(x, grad)\u001b[0m\n\u001b[1;32m     13\u001b[0m \u001b[0;34m\u001b[0m\u001b[0m\n\u001b[1;32m     14\u001b[0m     \u001b[0mopt\u001b[0m \u001b[0;34m=\u001b[0m \u001b[0mnlopt\u001b[0m\u001b[0;34m.\u001b[0m\u001b[0mopt\u001b[0m\u001b[0;34m(\u001b[0m\u001b[0mnlopt\u001b[0m\u001b[0;34m.\u001b[0m\u001b[0mLN_BOBYQA\u001b[0m\u001b[0;34m,\u001b[0m \u001b[0mparam\u001b[0m\u001b[0;34m.\u001b[0m\u001b[0mshape\u001b[0m\u001b[0;34m[\u001b[0m\u001b[0;36m0\u001b[0m\u001b[0;34m]\u001b[0m\u001b[0;34m)\u001b[0m\u001b[0;34m\u001b[0m\u001b[0;34m\u001b[0m\u001b[0m\n\u001b[0;32m---> 15\u001b[0;31m     \u001b[0mobj\u001b[0m \u001b[0;34m=\u001b[0m \u001b[0;32mlambda\u001b[0m \u001b[0mx\u001b[0m\u001b[0;34m,\u001b[0m \u001b[0mgrad\u001b[0m\u001b[0;34m:\u001b[0m \u001b[0mnlopt_obj\u001b[0m\u001b[0;34m(\u001b[0m\u001b[0mx\u001b[0m\u001b[0;34m,\u001b[0m \u001b[0mgrad\u001b[0m\u001b[0;34m,\u001b[0m \u001b[0;34m**\u001b[0m\u001b[0mkwargs\u001b[0m\u001b[0;34m)\u001b[0m\u001b[0;34m\u001b[0m\u001b[0;34m\u001b[0m\u001b[0m\n\u001b[0m\u001b[1;32m     16\u001b[0m     \u001b[0mopt\u001b[0m\u001b[0;34m.\u001b[0m\u001b[0mset_max_objective\u001b[0m\u001b[0;34m(\u001b[0m\u001b[0mobj\u001b[0m\u001b[0;34m)\u001b[0m\u001b[0;34m\u001b[0m\u001b[0;34m\u001b[0m\u001b[0m\n\u001b[1;32m     17\u001b[0m     \u001b[0mopt\u001b[0m\u001b[0;34m.\u001b[0m\u001b[0mset_xtol_rel\u001b[0m\u001b[0;34m(\u001b[0m\u001b[0mkwargs\u001b[0m\u001b[0;34m.\u001b[0m\u001b[0mget\u001b[0m\u001b[0;34m(\u001b[0m\u001b[0;34m'xtol_rel'\u001b[0m\u001b[0;34m,\u001b[0m \u001b[0mopt\u001b[0m\u001b[0;34m.\u001b[0m\u001b[0mget_xtol_rel\u001b[0m\u001b[0;34m(\u001b[0m\u001b[0;34m)\u001b[0m\u001b[0;34m)\u001b[0m\u001b[0;34m)\u001b[0m\u001b[0;34m\u001b[0m\u001b[0;34m\u001b[0m\u001b[0m\n",
      "\u001b[0;32m<ipython-input-27-cd347cd32f29>\u001b[0m in \u001b[0;36mnlopt_obj\u001b[0;34m(x, grad, **kwargs)\u001b[0m\n\u001b[1;32m      7\u001b[0m     \"\"\"\n\u001b[1;32m      8\u001b[0m     \u001b[0;32mdef\u001b[0m \u001b[0mnlopt_obj\u001b[0m\u001b[0;34m(\u001b[0m\u001b[0mx\u001b[0m\u001b[0;34m,\u001b[0m \u001b[0mgrad\u001b[0m\u001b[0;34m,\u001b[0m \u001b[0;34m**\u001b[0m\u001b[0mkwargs\u001b[0m\u001b[0;34m)\u001b[0m\u001b[0;34m:\u001b[0m\u001b[0;34m\u001b[0m\u001b[0;34m\u001b[0m\u001b[0m\n\u001b[0;32m----> 9\u001b[0;31m         \u001b[0mfval_opt\u001b[0m \u001b[0;34m=\u001b[0m \u001b[0mobj_func\u001b[0m\u001b[0;34m(\u001b[0m\u001b[0mx\u001b[0m\u001b[0;34m)\u001b[0m\u001b[0;34m\u001b[0m\u001b[0;34m\u001b[0m\u001b[0m\n\u001b[0m\u001b[1;32m     10\u001b[0m         \u001b[0;32mif\u001b[0m \u001b[0mkwargs\u001b[0m\u001b[0;34m.\u001b[0m\u001b[0mget\u001b[0m\u001b[0;34m(\u001b[0m\u001b[0;34m'verbose'\u001b[0m\u001b[0;34m,\u001b[0m \u001b[0;32mFalse\u001b[0m\u001b[0;34m)\u001b[0m\u001b[0;34m:\u001b[0m\u001b[0;34m\u001b[0m\u001b[0;34m\u001b[0m\u001b[0m\n\u001b[1;32m     11\u001b[0m             \u001b[0mprint\u001b[0m\u001b[0;34m(\u001b[0m\u001b[0;34m'fval: {}'\u001b[0m\u001b[0;34m.\u001b[0m\u001b[0mformat\u001b[0m\u001b[0;34m(\u001b[0m\u001b[0mfval_opt\u001b[0m\u001b[0;34m)\u001b[0m\u001b[0;34m)\u001b[0m\u001b[0;34m\u001b[0m\u001b[0;34m\u001b[0m\u001b[0m\n",
      "\u001b[0;32m~/codebase/linkalman/linkalman/core/kalman_smoother.py\u001b[0m in \u001b[0;36mG\u001b[0;34m(self, theta)\u001b[0m\n\u001b[1;32m    373\u001b[0m                         axis='both')[0:self.n_t[t], 0:self.n_t[t]]\n\u001b[1;32m    374\u001b[0m                 G2 += np.log(pdet(R_t)) + scipy.trace(inv(\n\u001b[0;32m--> 375\u001b[0;31m                         R_t).dot(self._E_chi2(Mt, t)))\n\u001b[0m\u001b[1;32m    376\u001b[0m \u001b[0;34m\u001b[0m\u001b[0m\n\u001b[1;32m    377\u001b[0m         \u001b[0mG\u001b[0m \u001b[0;34m=\u001b[0m \u001b[0mG1\u001b[0m \u001b[0;34m+\u001b[0m \u001b[0mG2\u001b[0m\u001b[0;34m\u001b[0m\u001b[0;34m\u001b[0m\u001b[0m\n",
      "\u001b[0;32m~/codebase/linkalman/linkalman/core/utils.py\u001b[0m in \u001b[0;36minv\u001b[0;34m(h_array)\u001b[0m\n\u001b[1;32m    109\u001b[0m     \"\"\"\n\u001b[1;32m    110\u001b[0m     \u001b[0;32mif\u001b[0m \u001b[0mnp\u001b[0m\u001b[0;34m.\u001b[0m\u001b[0mallclose\u001b[0m\u001b[0;34m(\u001b[0m\u001b[0mh_array\u001b[0m\u001b[0;34m,\u001b[0m \u001b[0mh_array\u001b[0m\u001b[0;34m.\u001b[0m\u001b[0mT\u001b[0m\u001b[0;34m)\u001b[0m\u001b[0;34m:\u001b[0m\u001b[0;34m\u001b[0m\u001b[0;34m\u001b[0m\u001b[0m\n\u001b[0;32m--> 111\u001b[0;31m         \u001b[0mh_inv\u001b[0m \u001b[0;34m=\u001b[0m \u001b[0mlinalg\u001b[0m\u001b[0;34m.\u001b[0m\u001b[0mpinvh\u001b[0m\u001b[0;34m(\u001b[0m\u001b[0mh_array\u001b[0m\u001b[0;34m)\u001b[0m\u001b[0;34m\u001b[0m\u001b[0;34m\u001b[0m\u001b[0m\n\u001b[0m\u001b[1;32m    112\u001b[0m     \u001b[0;32melse\u001b[0m\u001b[0;34m:\u001b[0m\u001b[0;34m\u001b[0m\u001b[0;34m\u001b[0m\u001b[0m\n\u001b[1;32m    113\u001b[0m         \u001b[0mh_inv\u001b[0m \u001b[0;34m=\u001b[0m \u001b[0mlinalg\u001b[0m\u001b[0;34m.\u001b[0m\u001b[0mpinv2\u001b[0m\u001b[0;34m(\u001b[0m\u001b[0mh_array\u001b[0m\u001b[0;34m)\u001b[0m\u001b[0;34m\u001b[0m\u001b[0;34m\u001b[0m\u001b[0m\n",
      "\u001b[0;32m~/venvs/linkalman/lib/python3.7/site-packages/scipy/linalg/basic.py\u001b[0m in \u001b[0;36mpinvh\u001b[0;34m(a, cond, rcond, lower, return_rank, check_finite)\u001b[0m\n\u001b[1;32m   1455\u001b[0m     \u001b[0;31m# For Hermitian matrices, singular values equal abs(eigenvalues)\u001b[0m\u001b[0;34m\u001b[0m\u001b[0;34m\u001b[0m\u001b[0;34m\u001b[0m\u001b[0m\n\u001b[1;32m   1456\u001b[0m     \u001b[0mabove_cutoff\u001b[0m \u001b[0;34m=\u001b[0m \u001b[0;34m(\u001b[0m\u001b[0mabs\u001b[0m\u001b[0;34m(\u001b[0m\u001b[0ms\u001b[0m\u001b[0;34m)\u001b[0m \u001b[0;34m>\u001b[0m \u001b[0mcond\u001b[0m\u001b[0;34m)\u001b[0m\u001b[0;34m\u001b[0m\u001b[0;34m\u001b[0m\u001b[0m\n\u001b[0;32m-> 1457\u001b[0;31m     \u001b[0mpsigma_diag\u001b[0m \u001b[0;34m=\u001b[0m \u001b[0;36m1.0\u001b[0m \u001b[0;34m/\u001b[0m \u001b[0ms\u001b[0m\u001b[0;34m[\u001b[0m\u001b[0mabove_cutoff\u001b[0m\u001b[0;34m]\u001b[0m\u001b[0;34m\u001b[0m\u001b[0;34m\u001b[0m\u001b[0m\n\u001b[0m\u001b[1;32m   1458\u001b[0m     \u001b[0mu\u001b[0m \u001b[0;34m=\u001b[0m \u001b[0mu\u001b[0m\u001b[0;34m[\u001b[0m\u001b[0;34m:\u001b[0m\u001b[0;34m,\u001b[0m \u001b[0mabove_cutoff\u001b[0m\u001b[0;34m]\u001b[0m\u001b[0;34m\u001b[0m\u001b[0;34m\u001b[0m\u001b[0m\n\u001b[1;32m   1459\u001b[0m \u001b[0;34m\u001b[0m\u001b[0m\n",
      "\u001b[0;31mKeyboardInterrupt\u001b[0m: "
     ]
    }
   ],
   "source": [
    "# Fit data using both methods:\n",
    "theta_init = np.random.rand(len(theta))\n",
    "model.set_solver(my_solver, xtol_rel=1e-3, ftol_rel=1e-3, verbose_opt=True) \n",
    "model.fit(df_train, theta_init, y_col=y_col, x_col=x_col, method='EM', num_EM_iter=20)\n",
    "model.set_solver(my_solver, xtol_rel=1e-4, verbose=True) \n",
    "model.fit(df_train, model.theta_opt, y_col=y_col, x_col=x_col, method='LLY')\n",
    "theta_mix = model.theta_opt"
   ]
  },
  {
   "cell_type": "markdown",
   "metadata": {},
   "source": [
    "# EM\n",
    "In order to use EM algorithm numerically, one has to be careful about tolerance. If the tolerence parameters are too small, it's slow to finish one iteration. On the other hand, due to the iterative nature of EM algorithm, if one set the tolerance too large, it will fail to converge later on. Therefore, EM is better for cold starting a optimizer. "
   ]
  },
  {
   "cell_type": "code",
   "execution_count": null,
   "metadata": {
    "scrolled": true
   },
   "outputs": [],
   "source": [
    "# Fit data using EM:\n",
    "theta_init = np.random.rand(len(theta))\n",
    "model.set_solver(my_solver, xtol_rel=1e-5, ftol_rel=1e-5, verbose_opt=True) \n",
    "model.fit(df_train, theta_init, y_col=y_col, x_col=x_col, EM_threshold=0.005, method='EM')\n",
    "theta_EM = model.theta_opt"
   ]
  },
  {
   "cell_type": "code",
   "execution_count": null,
   "metadata": {},
   "outputs": [],
   "source": [
    "# Make predictions from LLY:\n",
    "df_LLY = model.predict(df_test, theta=theta_LLY)\n",
    "\n",
    "# Make predictions from mixed models:\n",
    "df_mix = model.predict(df_test, theta=theta_mix)\n",
    "\n",
    "# Make predictions from EM:\n",
    "df_EM = model.predict(df_test, theta=theta_EM)\n",
    "\n",
    "# Make predictions using true theta:\n",
    "df_true = model.predict(df_test, theta=theta)"
   ]
  },
  {
   "cell_type": "markdown",
   "metadata": {},
   "source": [
    "# Compare Performance"
   ]
  },
  {
   "cell_type": "code",
   "execution_count": null,
   "metadata": {},
   "outputs": [],
   "source": [
    "# Calculate Statistics\n",
    "RMSE = {}\n",
    "RMSE['true'] = np.sqrt((df_true.y_0_filtered - df_true.y_0_vis).var())\n",
    "RMSE['LLY'] = np.sqrt((df_LLY.y_0_filtered - df_LLY.y_0_vis).var())\n",
    "RMSE['EM'] = np.sqrt((df_EM.y_0_filtered - df_EM.y_0_vis).var())\n",
    "RMSE['mix'] = np.sqrt((df_mix.y_0_filtered - df_mix.y_0_vis).var())\n",
    "\n",
    "M_error = {}\n",
    "M_error['true'] = (df_true.y_0_filtered - df_true.y_0_vis).mean()\n",
    "M_error['LLY'] = (df_LLY.y_0_filtered - df_LLY.y_0_vis).mean()\n",
    "M_error['EM'] = (df_EM.y_0_filtered - df_EM.y_0_vis).mean()\n",
    "M_error['mix'] = (df_mix.y_0_filtered - df_mix.y_0_vis).mean()\n",
    "print(RMSE)\n",
    "print(M_error)"
   ]
  }
 ],
 "metadata": {
  "kernelspec": {
   "display_name": "Python 3",
   "language": "python",
   "name": "python3"
  },
  "language_info": {
   "codemirror_mode": {
    "name": "ipython",
    "version": 3
   },
   "file_extension": ".py",
   "mimetype": "text/x-python",
   "name": "python",
   "nbconvert_exporter": "python",
   "pygments_lexer": "ipython3",
   "version": "3.7.5"
  }
 },
 "nbformat": 4,
 "nbformat_minor": 2
}
